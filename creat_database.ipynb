{
 "cells": [
  {
   "cell_type": "code",
   "execution_count": 1,
   "id": "initial_id",
   "metadata": {
    "collapsed": true,
    "ExecuteTime": {
     "end_time": "2025-04-21T07:49:55.755471Z",
     "start_time": "2025-04-21T07:49:46.926921Z"
    }
   },
   "outputs": [],
   "source": [
    "import pandas as pd\n",
    "\n",
    "data1 = pd.read_parquet('./dataset/vector.parquet')\n",
    "corpus = data1[data1['term']=='geology']\n",
    "refs = data1[data1['term']=='thisisref']"
   ]
  },
  {
   "cell_type": "code",
   "outputs": [
    {
     "data": {
      "text/plain": "                              domain  \\\n0  mathematical and physical science   \n1                   chemical science   \n2                       life science   \n3  engineering and materials science   \n4                      earth science   \n5                information science   \n6                 management science   \n7                     health science   \n\n                                              vector  \n0  [-0.14451712, 0.23823792, 0.0037071954, 0.0215...  \n1  [-0.6430494, 0.3025447, -0.511633, 0.2993416, ...  \n2  [-0.47636873, 0.30147463, -0.039580934, 0.0246...  \n3  [-0.47923693, 0.4003725, -0.30277374, 0.142371...  \n4  [0.12350081, 0.33160982, 0.33026475, -0.071776...  \n5  [-0.30393243, 0.08913228, -0.6674503, -0.29631...  \n6  [-0.3315472, -0.12615204, -0.19574514, -0.0854...  \n7  [-0.11772352, 0.5092161, -0.2566252, 0.0214417...  ",
      "text/html": "<div>\n<style scoped>\n    .dataframe tbody tr th:only-of-type {\n        vertical-align: middle;\n    }\n\n    .dataframe tbody tr th {\n        vertical-align: top;\n    }\n\n    .dataframe thead th {\n        text-align: right;\n    }\n</style>\n<table border=\"1\" class=\"dataframe\">\n  <thead>\n    <tr style=\"text-align: right;\">\n      <th></th>\n      <th>domain</th>\n      <th>vector</th>\n    </tr>\n  </thead>\n  <tbody>\n    <tr>\n      <th>0</th>\n      <td>mathematical and physical science</td>\n      <td>[-0.14451712, 0.23823792, 0.0037071954, 0.0215...</td>\n    </tr>\n    <tr>\n      <th>1</th>\n      <td>chemical science</td>\n      <td>[-0.6430494, 0.3025447, -0.511633, 0.2993416, ...</td>\n    </tr>\n    <tr>\n      <th>2</th>\n      <td>life science</td>\n      <td>[-0.47636873, 0.30147463, -0.039580934, 0.0246...</td>\n    </tr>\n    <tr>\n      <th>3</th>\n      <td>engineering and materials science</td>\n      <td>[-0.47923693, 0.4003725, -0.30277374, 0.142371...</td>\n    </tr>\n    <tr>\n      <th>4</th>\n      <td>earth science</td>\n      <td>[0.12350081, 0.33160982, 0.33026475, -0.071776...</td>\n    </tr>\n    <tr>\n      <th>5</th>\n      <td>information science</td>\n      <td>[-0.30393243, 0.08913228, -0.6674503, -0.29631...</td>\n    </tr>\n    <tr>\n      <th>6</th>\n      <td>management science</td>\n      <td>[-0.3315472, -0.12615204, -0.19574514, -0.0854...</td>\n    </tr>\n    <tr>\n      <th>7</th>\n      <td>health science</td>\n      <td>[-0.11772352, 0.5092161, -0.2566252, 0.0214417...</td>\n    </tr>\n  </tbody>\n</table>\n</div>"
     },
     "execution_count": 2,
     "metadata": {},
     "output_type": "execute_result"
    }
   ],
   "source": [
    "domains = pd.read_parquet('./dataset/domain_vector.parquet')\n",
    "domains"
   ],
   "metadata": {
    "collapsed": false,
    "ExecuteTime": {
     "end_time": "2025-04-21T07:49:55.775926Z",
     "start_time": "2025-04-21T07:49:55.757993Z"
    }
   },
   "id": "7c77e7b080e8a0ea",
   "execution_count": 2
  },
  {
   "cell_type": "code",
   "outputs": [
    {
     "name": "stderr",
     "output_type": "stream",
     "text": [
      "C:\\Users\\lipen\\AppData\\Local\\Temp\\ipykernel_26964\\3571669762.py:12: SettingWithCopyWarning: \n",
      "A value is trying to be set on a copy of a slice from a DataFrame.\n",
      "Try using .loc[row_indexer,col_indexer] = value instead\n",
      "\n",
      "See the caveats in the documentation: https://pandas.pydata.org/pandas-docs/stable/user_guide/indexing.html#returning-a-view-versus-a-copy\n",
      "  refs['assigned_domain'] = [domains['domain'][i] for i in best_match_idx]\n",
      "C:\\Users\\lipen\\AppData\\Local\\Temp\\ipykernel_26964\\3571669762.py:13: SettingWithCopyWarning: \n",
      "A value is trying to be set on a copy of a slice from a DataFrame.\n",
      "Try using .loc[row_indexer,col_indexer] = value instead\n",
      "\n",
      "See the caveats in the documentation: https://pandas.pydata.org/pandas-docs/stable/user_guide/indexing.html#returning-a-view-versus-a-copy\n",
      "  refs['similarity_score'] = sim_matrix.max(axis=1)\n"
     ]
    }
   ],
   "source": [
    "import pandas as pd\n",
    "import numpy as np\n",
    "from sklearn.metrics.pairwise import cosine_similarity\n",
    "\n",
    "ref_vectors = np.stack(refs['vector'])\n",
    "domain_vectors = np.stack(domains['vector'])\n",
    "\n",
    "sim_matrix = cosine_similarity(ref_vectors, domain_vectors)\n",
    "\n",
    "# 取最大值匹配的领域\n",
    "best_match_idx = sim_matrix.argmax(axis=1)\n",
    "refs['assigned_domain'] = [domains['domain'][i] for i in best_match_idx]\n",
    "refs['similarity_score'] = sim_matrix.max(axis=1)\n",
    "\n"
   ],
   "metadata": {
    "collapsed": false,
    "ExecuteTime": {
     "end_time": "2025-04-21T07:49:59.915358Z",
     "start_time": "2025-04-21T07:49:55.777438Z"
    }
   },
   "id": "cfc32b0f64437501",
   "execution_count": 3
  },
  {
   "cell_type": "code",
   "outputs": [
    {
     "data": {
      "text/plain": "                        eid             ref_eid\n0        2-s2.0-85111011520   2-s2.0-0028405041\n1        2-s2.0-85111011520   2-s2.0-0027331194\n2        2-s2.0-85111011520  2-s2.0-85083822098\n3        2-s2.0-85111011520  2-s2.0-79961139006\n4        2-s2.0-85111011520  2-s2.0-85067258849\n...                     ...                 ...\n1875868  2-s2.0-84921959907   2-s2.0-0023477638\n1875869  2-s2.0-84921959907  2-s2.0-84864556957\n1875870  2-s2.0-84921959907   2-s2.0-0021405378\n1875871  2-s2.0-84921959907   2-s2.0-0023119813\n1875872  2-s2.0-84921959907  2-s2.0-79955724639\n\n[1875873 rows x 2 columns]",
      "text/html": "<div>\n<style scoped>\n    .dataframe tbody tr th:only-of-type {\n        vertical-align: middle;\n    }\n\n    .dataframe tbody tr th {\n        vertical-align: top;\n    }\n\n    .dataframe thead th {\n        text-align: right;\n    }\n</style>\n<table border=\"1\" class=\"dataframe\">\n  <thead>\n    <tr style=\"text-align: right;\">\n      <th></th>\n      <th>eid</th>\n      <th>ref_eid</th>\n    </tr>\n  </thead>\n  <tbody>\n    <tr>\n      <th>0</th>\n      <td>2-s2.0-85111011520</td>\n      <td>2-s2.0-0028405041</td>\n    </tr>\n    <tr>\n      <th>1</th>\n      <td>2-s2.0-85111011520</td>\n      <td>2-s2.0-0027331194</td>\n    </tr>\n    <tr>\n      <th>2</th>\n      <td>2-s2.0-85111011520</td>\n      <td>2-s2.0-85083822098</td>\n    </tr>\n    <tr>\n      <th>3</th>\n      <td>2-s2.0-85111011520</td>\n      <td>2-s2.0-79961139006</td>\n    </tr>\n    <tr>\n      <th>4</th>\n      <td>2-s2.0-85111011520</td>\n      <td>2-s2.0-85067258849</td>\n    </tr>\n    <tr>\n      <th>...</th>\n      <td>...</td>\n      <td>...</td>\n    </tr>\n    <tr>\n      <th>1875868</th>\n      <td>2-s2.0-84921959907</td>\n      <td>2-s2.0-0023477638</td>\n    </tr>\n    <tr>\n      <th>1875869</th>\n      <td>2-s2.0-84921959907</td>\n      <td>2-s2.0-84864556957</td>\n    </tr>\n    <tr>\n      <th>1875870</th>\n      <td>2-s2.0-84921959907</td>\n      <td>2-s2.0-0021405378</td>\n    </tr>\n    <tr>\n      <th>1875871</th>\n      <td>2-s2.0-84921959907</td>\n      <td>2-s2.0-0023119813</td>\n    </tr>\n    <tr>\n      <th>1875872</th>\n      <td>2-s2.0-84921959907</td>\n      <td>2-s2.0-79955724639</td>\n    </tr>\n  </tbody>\n</table>\n<p>1875873 rows × 2 columns</p>\n</div>"
     },
     "execution_count": 4,
     "metadata": {},
     "output_type": "execute_result"
    }
   ],
   "source": [
    "cite = pd.read_csv('./dataset/clean_cite.csv')\n",
    "cite"
   ],
   "metadata": {
    "collapsed": false,
    "ExecuteTime": {
     "end_time": "2025-04-21T07:50:00.791075Z",
     "start_time": "2025-04-21T07:49:59.916816Z"
    }
   },
   "id": "5476291073a45429",
   "execution_count": 4
  },
  {
   "cell_type": "code",
   "outputs": [
    {
     "data": {
      "text/plain": "                        eid             ref_eid                  id  time\n0        2-s2.0-85111011520   2-s2.0-0028405041  2-s2.0-85111011520  2021\n1        2-s2.0-85111011520   2-s2.0-0027331194  2-s2.0-85111011520  2021\n2        2-s2.0-85111011520  2-s2.0-85083822098  2-s2.0-85111011520  2021\n3        2-s2.0-85111011520  2-s2.0-79961139006  2-s2.0-85111011520  2021\n4        2-s2.0-85111011520  2-s2.0-85067258849  2-s2.0-85111011520  2021\n...                     ...                 ...                 ...   ...\n1671397  2-s2.0-80955136511   2-s2.0-0002388860  2-s2.0-80955136511  2011\n1671398  2-s2.0-80955136511   2-s2.0-0033886791  2-s2.0-80955136511  2011\n1671399  2-s2.0-80955136511  2-s2.0-33845589304  2-s2.0-80955136511  2011\n1671400  2-s2.0-80955136511  2-s2.0-33745728148  2-s2.0-80955136511  2011\n1671401  2-s2.0-80955136511   2-s2.0-0039297275  2-s2.0-80955136511  2011\n\n[1671402 rows x 4 columns]",
      "text/html": "<div>\n<style scoped>\n    .dataframe tbody tr th:only-of-type {\n        vertical-align: middle;\n    }\n\n    .dataframe tbody tr th {\n        vertical-align: top;\n    }\n\n    .dataframe thead th {\n        text-align: right;\n    }\n</style>\n<table border=\"1\" class=\"dataframe\">\n  <thead>\n    <tr style=\"text-align: right;\">\n      <th></th>\n      <th>eid</th>\n      <th>ref_eid</th>\n      <th>id</th>\n      <th>time</th>\n    </tr>\n  </thead>\n  <tbody>\n    <tr>\n      <th>0</th>\n      <td>2-s2.0-85111011520</td>\n      <td>2-s2.0-0028405041</td>\n      <td>2-s2.0-85111011520</td>\n      <td>2021</td>\n    </tr>\n    <tr>\n      <th>1</th>\n      <td>2-s2.0-85111011520</td>\n      <td>2-s2.0-0027331194</td>\n      <td>2-s2.0-85111011520</td>\n      <td>2021</td>\n    </tr>\n    <tr>\n      <th>2</th>\n      <td>2-s2.0-85111011520</td>\n      <td>2-s2.0-85083822098</td>\n      <td>2-s2.0-85111011520</td>\n      <td>2021</td>\n    </tr>\n    <tr>\n      <th>3</th>\n      <td>2-s2.0-85111011520</td>\n      <td>2-s2.0-79961139006</td>\n      <td>2-s2.0-85111011520</td>\n      <td>2021</td>\n    </tr>\n    <tr>\n      <th>4</th>\n      <td>2-s2.0-85111011520</td>\n      <td>2-s2.0-85067258849</td>\n      <td>2-s2.0-85111011520</td>\n      <td>2021</td>\n    </tr>\n    <tr>\n      <th>...</th>\n      <td>...</td>\n      <td>...</td>\n      <td>...</td>\n      <td>...</td>\n    </tr>\n    <tr>\n      <th>1671397</th>\n      <td>2-s2.0-80955136511</td>\n      <td>2-s2.0-0002388860</td>\n      <td>2-s2.0-80955136511</td>\n      <td>2011</td>\n    </tr>\n    <tr>\n      <th>1671398</th>\n      <td>2-s2.0-80955136511</td>\n      <td>2-s2.0-0033886791</td>\n      <td>2-s2.0-80955136511</td>\n      <td>2011</td>\n    </tr>\n    <tr>\n      <th>1671399</th>\n      <td>2-s2.0-80955136511</td>\n      <td>2-s2.0-33845589304</td>\n      <td>2-s2.0-80955136511</td>\n      <td>2011</td>\n    </tr>\n    <tr>\n      <th>1671400</th>\n      <td>2-s2.0-80955136511</td>\n      <td>2-s2.0-33745728148</td>\n      <td>2-s2.0-80955136511</td>\n      <td>2011</td>\n    </tr>\n    <tr>\n      <th>1671401</th>\n      <td>2-s2.0-80955136511</td>\n      <td>2-s2.0-0039297275</td>\n      <td>2-s2.0-80955136511</td>\n      <td>2011</td>\n    </tr>\n  </tbody>\n</table>\n<p>1671402 rows × 4 columns</p>\n</div>"
     },
     "execution_count": 5,
     "metadata": {},
     "output_type": "execute_result"
    }
   ],
   "source": [
    "merged_df1 = pd.merge(cite, corpus[['id', 'time']], left_on='eid', right_on='id', how='inner')\n",
    "merged_df1"
   ],
   "metadata": {
    "collapsed": false,
    "ExecuteTime": {
     "end_time": "2025-04-21T07:50:01.051886Z",
     "start_time": "2025-04-21T07:50:00.793142Z"
    }
   },
   "id": "cbca16a7879c02c3",
   "execution_count": 5
  },
  {
   "cell_type": "code",
   "outputs": [],
   "source": [],
   "metadata": {
    "collapsed": false,
    "ExecuteTime": {
     "end_time": "2025-04-21T07:50:01.055215Z",
     "start_time": "2025-04-21T07:50:01.052897Z"
    }
   },
   "id": "6c387051246e3934",
   "execution_count": 5
  },
  {
   "cell_type": "code",
   "outputs": [],
   "source": [],
   "metadata": {
    "collapsed": false,
    "ExecuteTime": {
     "end_time": "2025-04-21T07:50:01.060896Z",
     "start_time": "2025-04-21T07:50:01.058738Z"
    }
   },
   "id": "d8828451875c90cc",
   "execution_count": 5
  },
  {
   "cell_type": "code",
   "outputs": [
    {
     "data": {
      "text/plain": "                        eid             ref_eid                id_x  time  \\\n0        2-s2.0-85111011520   2-s2.0-0028405041  2-s2.0-85111011520  2021   \n1        2-s2.0-85111011520   2-s2.0-0027331194  2-s2.0-85111011520  2021   \n2        2-s2.0-85111011520  2-s2.0-85083822098  2-s2.0-85111011520  2021   \n3        2-s2.0-85111011520  2-s2.0-79961139006  2-s2.0-85111011520  2021   \n4        2-s2.0-85111011520  2-s2.0-85067258849  2-s2.0-85111011520  2021   \n...                     ...                 ...                 ...   ...   \n1543051  2-s2.0-80955136511   2-s2.0-0002388860  2-s2.0-80955136511  2011   \n1543052  2-s2.0-80955136511   2-s2.0-0033886791  2-s2.0-80955136511  2011   \n1543053  2-s2.0-80955136511  2-s2.0-33845589304  2-s2.0-80955136511  2011   \n1543054  2-s2.0-80955136511  2-s2.0-33745728148  2-s2.0-80955136511  2011   \n1543055  2-s2.0-80955136511   2-s2.0-0039297275  2-s2.0-80955136511  2011   \n\n                       id_y                    assigned_domain  \\\n0         2-s2.0-0028405041                      earth science   \n1         2-s2.0-0027331194                      earth science   \n2        2-s2.0-85083822098                      earth science   \n3        2-s2.0-79961139006                      earth science   \n4        2-s2.0-85067258849                      earth science   \n...                     ...                                ...   \n1543051   2-s2.0-0002388860  mathematical and physical science   \n1543052   2-s2.0-0033886791                information science   \n1543053  2-s2.0-33845589304  mathematical and physical science   \n1543054  2-s2.0-33745728148                 management science   \n1543055   2-s2.0-0039297275                information science   \n\n                                                   journal  \\\n0                                   Radiation Measurements   \n1                               Quaternary Science Reviews   \n2                               Quaternary Science Reviews   \n3                     Australian Journal of Earth Sciences   \n4                                      Scientific Drilling   \n...                                                    ...   \n1543051                                      Psychometrika   \n1543052              IEEE Transactions on Image Processing   \n1543053  Proceedings of the IEEE Computer Society Confe...   \n1543054  International Geoscience and Remote Sensing Sy...   \n1543055  Communications in Statistics Part B: Simulatio...   \n\n                                                  abstract  \n0        In previous work, we have discussed the way in...  \n1        Spatial and temporal patterns in lake-level da...  \n2        High-resolution pollen and charcoal records fr...  \n3        By comparison with the Northern Hemisphere, th...  \n4        A 70m long continental sediment record was rec...  \n...                                                    ...  \n1543051  A distinction is drawn between redundancy meas...  \n1543052  This paper discusses the interest of binary pa...  \n1543053  In this paper we propose diffusion distance, a...  \n1543054  The hierarchical image segmentation (HSEG) alg...  \n1543055  Some new results of a distance-based (DB) mode...  \n\n[1543056 rows x 8 columns]",
      "text/html": "<div>\n<style scoped>\n    .dataframe tbody tr th:only-of-type {\n        vertical-align: middle;\n    }\n\n    .dataframe tbody tr th {\n        vertical-align: top;\n    }\n\n    .dataframe thead th {\n        text-align: right;\n    }\n</style>\n<table border=\"1\" class=\"dataframe\">\n  <thead>\n    <tr style=\"text-align: right;\">\n      <th></th>\n      <th>eid</th>\n      <th>ref_eid</th>\n      <th>id_x</th>\n      <th>time</th>\n      <th>id_y</th>\n      <th>assigned_domain</th>\n      <th>journal</th>\n      <th>abstract</th>\n    </tr>\n  </thead>\n  <tbody>\n    <tr>\n      <th>0</th>\n      <td>2-s2.0-85111011520</td>\n      <td>2-s2.0-0028405041</td>\n      <td>2-s2.0-85111011520</td>\n      <td>2021</td>\n      <td>2-s2.0-0028405041</td>\n      <td>earth science</td>\n      <td>Radiation Measurements</td>\n      <td>In previous work, we have discussed the way in...</td>\n    </tr>\n    <tr>\n      <th>1</th>\n      <td>2-s2.0-85111011520</td>\n      <td>2-s2.0-0027331194</td>\n      <td>2-s2.0-85111011520</td>\n      <td>2021</td>\n      <td>2-s2.0-0027331194</td>\n      <td>earth science</td>\n      <td>Quaternary Science Reviews</td>\n      <td>Spatial and temporal patterns in lake-level da...</td>\n    </tr>\n    <tr>\n      <th>2</th>\n      <td>2-s2.0-85111011520</td>\n      <td>2-s2.0-85083822098</td>\n      <td>2-s2.0-85111011520</td>\n      <td>2021</td>\n      <td>2-s2.0-85083822098</td>\n      <td>earth science</td>\n      <td>Quaternary Science Reviews</td>\n      <td>High-resolution pollen and charcoal records fr...</td>\n    </tr>\n    <tr>\n      <th>3</th>\n      <td>2-s2.0-85111011520</td>\n      <td>2-s2.0-79961139006</td>\n      <td>2-s2.0-85111011520</td>\n      <td>2021</td>\n      <td>2-s2.0-79961139006</td>\n      <td>earth science</td>\n      <td>Australian Journal of Earth Sciences</td>\n      <td>By comparison with the Northern Hemisphere, th...</td>\n    </tr>\n    <tr>\n      <th>4</th>\n      <td>2-s2.0-85111011520</td>\n      <td>2-s2.0-85067258849</td>\n      <td>2-s2.0-85111011520</td>\n      <td>2021</td>\n      <td>2-s2.0-85067258849</td>\n      <td>earth science</td>\n      <td>Scientific Drilling</td>\n      <td>A 70m long continental sediment record was rec...</td>\n    </tr>\n    <tr>\n      <th>...</th>\n      <td>...</td>\n      <td>...</td>\n      <td>...</td>\n      <td>...</td>\n      <td>...</td>\n      <td>...</td>\n      <td>...</td>\n      <td>...</td>\n    </tr>\n    <tr>\n      <th>1543051</th>\n      <td>2-s2.0-80955136511</td>\n      <td>2-s2.0-0002388860</td>\n      <td>2-s2.0-80955136511</td>\n      <td>2011</td>\n      <td>2-s2.0-0002388860</td>\n      <td>mathematical and physical science</td>\n      <td>Psychometrika</td>\n      <td>A distinction is drawn between redundancy meas...</td>\n    </tr>\n    <tr>\n      <th>1543052</th>\n      <td>2-s2.0-80955136511</td>\n      <td>2-s2.0-0033886791</td>\n      <td>2-s2.0-80955136511</td>\n      <td>2011</td>\n      <td>2-s2.0-0033886791</td>\n      <td>information science</td>\n      <td>IEEE Transactions on Image Processing</td>\n      <td>This paper discusses the interest of binary pa...</td>\n    </tr>\n    <tr>\n      <th>1543053</th>\n      <td>2-s2.0-80955136511</td>\n      <td>2-s2.0-33845589304</td>\n      <td>2-s2.0-80955136511</td>\n      <td>2011</td>\n      <td>2-s2.0-33845589304</td>\n      <td>mathematical and physical science</td>\n      <td>Proceedings of the IEEE Computer Society Confe...</td>\n      <td>In this paper we propose diffusion distance, a...</td>\n    </tr>\n    <tr>\n      <th>1543054</th>\n      <td>2-s2.0-80955136511</td>\n      <td>2-s2.0-33745728148</td>\n      <td>2-s2.0-80955136511</td>\n      <td>2011</td>\n      <td>2-s2.0-33745728148</td>\n      <td>management science</td>\n      <td>International Geoscience and Remote Sensing Sy...</td>\n      <td>The hierarchical image segmentation (HSEG) alg...</td>\n    </tr>\n    <tr>\n      <th>1543055</th>\n      <td>2-s2.0-80955136511</td>\n      <td>2-s2.0-0039297275</td>\n      <td>2-s2.0-80955136511</td>\n      <td>2011</td>\n      <td>2-s2.0-0039297275</td>\n      <td>information science</td>\n      <td>Communications in Statistics Part B: Simulatio...</td>\n      <td>Some new results of a distance-based (DB) mode...</td>\n    </tr>\n  </tbody>\n</table>\n<p>1543056 rows × 8 columns</p>\n</div>"
     },
     "execution_count": 6,
     "metadata": {},
     "output_type": "execute_result"
    }
   ],
   "source": [
    "merged_df = pd.merge(merged_df1, refs[['id', 'assigned_domain', 'journal', 'abstract']], left_on='ref_eid', right_on='id', how='inner')\n",
    "merged_df"
   ],
   "metadata": {
    "collapsed": false,
    "ExecuteTime": {
     "end_time": "2025-04-21T07:50:02.416889Z",
     "start_time": "2025-04-21T07:50:01.061903Z"
    }
   },
   "id": "a5466d0f478692a3",
   "execution_count": 6
  },
  {
   "cell_type": "code",
   "outputs": [],
   "source": [
    "merged_df.to_parquet('database.parquet')"
   ],
   "metadata": {
    "collapsed": false,
    "ExecuteTime": {
     "end_time": "2025-04-21T07:50:12.210477Z",
     "start_time": "2025-04-21T07:50:02.417906Z"
    }
   },
   "id": "4ab1315a72c66f5d",
   "execution_count": 7
  },
  {
   "cell_type": "code",
   "outputs": [],
   "source": [],
   "metadata": {
    "collapsed": false,
    "ExecuteTime": {
     "end_time": "2025-04-21T07:50:12.213487Z",
     "start_time": "2025-04-21T07:50:12.211485Z"
    }
   },
   "id": "bbe6805ffd43df1f",
   "execution_count": 7
  }
 ],
 "metadata": {
  "kernelspec": {
   "display_name": "Python 3",
   "language": "python",
   "name": "python3"
  },
  "language_info": {
   "codemirror_mode": {
    "name": "ipython",
    "version": 2
   },
   "file_extension": ".py",
   "mimetype": "text/x-python",
   "name": "python",
   "nbconvert_exporter": "python",
   "pygments_lexer": "ipython2",
   "version": "2.7.6"
  }
 },
 "nbformat": 4,
 "nbformat_minor": 5
}
