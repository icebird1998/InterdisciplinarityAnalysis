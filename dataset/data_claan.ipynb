{
 "cells": [
  {
   "cell_type": "code",
   "outputs": [
    {
     "name": "stderr",
     "output_type": "stream",
     "text": [
      "C:\\Users\\lipen\\.conda\\envs\\hotspots\\Lib\\site-packages\\pandas\\core\\arrays\\masked.py:60: UserWarning: Pandas requires version '1.3.6' or newer of 'bottleneck' (version '1.3.5' currently installed).\n",
      "  from pandas.core import (\n"
     ]
    },
    {
     "data": {
      "text/plain": "                         id  \\\n2        2-s2.0-85109210680   \n5        2-s2.0-85105584695   \n7        2-s2.0-85111688511   \n11       2-s2.0-85106252695   \n12       2-s2.0-85058209803   \n...                     ...   \n3164072  2-s2.0-84984979172   \n3164073  2-s2.0-84903513056   \n3164074  2-s2.0-85013192697   \n3164075  2-s2.0-85028411103   \n3164076  2-s2.0-84938874150   \n\n                                                  abstract       term  \\\n2        Abstract: Natural gas hydrate has great develo...    geology   \n5        The spatial and temporal interaction of riftin...    geology   \n7        The Groningen gas field in the Netherlands is ...    geology   \n11       The current tectonic activity at the frontal p...    geology   \n12       Since launch in November 2018, the VIIRS on-bo...    geology   \n...                                                    ...        ...   \n3164072  Controlling sub-10 nm ligament sizes and open-...  thisisref   \n3164073  This paper reports a strategy to assemble apop...  thisisref   \n3164074  Nanoporous gold (NPG) structures, which posses...  thisisref   \n3164075  Wearable electronics are essential for the con...  thisisref   \n3164076  The design and function of a synthetic chemica...  thisisref   \n\n                                                   journal  \\\n2        Geomechanics and Geophysics for Geo-Energy and...   \n5                                           Tectonophysics   \n7                                           Remote Sensing   \n11                                          Tectonophysics   \n12       International Geoscience and Remote Sensing Sy...   \n...                                                    ...   \n3164072                                              Small   \n3164073                      Biosensors and Bioelectronics   \n3164074                                          Nanoscale   \n3164075                                          Nanoscale   \n3164076           Journal of the American Chemical Society   \n\n                                                     title  time  \n2        Mechanical behavior and constitutive model of ...  2021  \n5        Cenozoic structure and tectonics of North subb...  2021  \n7        In-reservoir waveform retrieval for monitoring...  2021  \n11       Active out-of-sequence thrusting in the Molass...  2021  \n12       Early results from NOAA-20 (JPSS-1) VIIRS on-o...  2018  \n...                                                    ...   ...  \n3164072  Nanoporous Gold Bowls: A Kinetic Approach to C...  2016  \n3164073  Peptide-based electrochemical approach for apo...  2014  \n3164074  Kinetically controlled synthesis of nanoporous...  2017  \n3164075  Single wearable sensing energy device based on...  2017  \n3164076  Protein-protein communication and enzyme activ...  2015  \n\n[1573504 rows x 6 columns]",
      "text/html": "<div>\n<style scoped>\n    .dataframe tbody tr th:only-of-type {\n        vertical-align: middle;\n    }\n\n    .dataframe tbody tr th {\n        vertical-align: top;\n    }\n\n    .dataframe thead th {\n        text-align: right;\n    }\n</style>\n<table border=\"1\" class=\"dataframe\">\n  <thead>\n    <tr style=\"text-align: right;\">\n      <th></th>\n      <th>id</th>\n      <th>abstract</th>\n      <th>term</th>\n      <th>journal</th>\n      <th>title</th>\n      <th>time</th>\n    </tr>\n  </thead>\n  <tbody>\n    <tr>\n      <th>2</th>\n      <td>2-s2.0-85109210680</td>\n      <td>Abstract: Natural gas hydrate has great develo...</td>\n      <td>geology</td>\n      <td>Geomechanics and Geophysics for Geo-Energy and...</td>\n      <td>Mechanical behavior and constitutive model of ...</td>\n      <td>2021</td>\n    </tr>\n    <tr>\n      <th>5</th>\n      <td>2-s2.0-85105584695</td>\n      <td>The spatial and temporal interaction of riftin...</td>\n      <td>geology</td>\n      <td>Tectonophysics</td>\n      <td>Cenozoic structure and tectonics of North subb...</td>\n      <td>2021</td>\n    </tr>\n    <tr>\n      <th>7</th>\n      <td>2-s2.0-85111688511</td>\n      <td>The Groningen gas field in the Netherlands is ...</td>\n      <td>geology</td>\n      <td>Remote Sensing</td>\n      <td>In-reservoir waveform retrieval for monitoring...</td>\n      <td>2021</td>\n    </tr>\n    <tr>\n      <th>11</th>\n      <td>2-s2.0-85106252695</td>\n      <td>The current tectonic activity at the frontal p...</td>\n      <td>geology</td>\n      <td>Tectonophysics</td>\n      <td>Active out-of-sequence thrusting in the Molass...</td>\n      <td>2021</td>\n    </tr>\n    <tr>\n      <th>12</th>\n      <td>2-s2.0-85058209803</td>\n      <td>Since launch in November 2018, the VIIRS on-bo...</td>\n      <td>geology</td>\n      <td>International Geoscience and Remote Sensing Sy...</td>\n      <td>Early results from NOAA-20 (JPSS-1) VIIRS on-o...</td>\n      <td>2018</td>\n    </tr>\n    <tr>\n      <th>...</th>\n      <td>...</td>\n      <td>...</td>\n      <td>...</td>\n      <td>...</td>\n      <td>...</td>\n      <td>...</td>\n    </tr>\n    <tr>\n      <th>3164072</th>\n      <td>2-s2.0-84984979172</td>\n      <td>Controlling sub-10 nm ligament sizes and open-...</td>\n      <td>thisisref</td>\n      <td>Small</td>\n      <td>Nanoporous Gold Bowls: A Kinetic Approach to C...</td>\n      <td>2016</td>\n    </tr>\n    <tr>\n      <th>3164073</th>\n      <td>2-s2.0-84903513056</td>\n      <td>This paper reports a strategy to assemble apop...</td>\n      <td>thisisref</td>\n      <td>Biosensors and Bioelectronics</td>\n      <td>Peptide-based electrochemical approach for apo...</td>\n      <td>2014</td>\n    </tr>\n    <tr>\n      <th>3164074</th>\n      <td>2-s2.0-85013192697</td>\n      <td>Nanoporous gold (NPG) structures, which posses...</td>\n      <td>thisisref</td>\n      <td>Nanoscale</td>\n      <td>Kinetically controlled synthesis of nanoporous...</td>\n      <td>2017</td>\n    </tr>\n    <tr>\n      <th>3164075</th>\n      <td>2-s2.0-85028411103</td>\n      <td>Wearable electronics are essential for the con...</td>\n      <td>thisisref</td>\n      <td>Nanoscale</td>\n      <td>Single wearable sensing energy device based on...</td>\n      <td>2017</td>\n    </tr>\n    <tr>\n      <th>3164076</th>\n      <td>2-s2.0-84938874150</td>\n      <td>The design and function of a synthetic chemica...</td>\n      <td>thisisref</td>\n      <td>Journal of the American Chemical Society</td>\n      <td>Protein-protein communication and enzyme activ...</td>\n      <td>2015</td>\n    </tr>\n  </tbody>\n</table>\n<p>1573504 rows × 6 columns</p>\n</div>"
     },
     "execution_count": 1,
     "metadata": {},
     "output_type": "execute_result"
    }
   ],
   "source": [
    "import pandas as pd\n",
    "import warnings\n",
    "\n",
    "\n",
    "# 忽略 UserWarning 类警告\n",
    "warnings.filterwarnings(\"ignore\", category=UserWarning)\n",
    "\n",
    "# 1. 读取原始数据，指定列和列名\n",
    "origin_data = pd.read_csv('csv-export.csv', usecols=[1,3,6,7,8,9], header=None)\n",
    "origin_data.columns = ['id', 'abstract', 'term', 'journal', 'title', 'time']\n",
    "\n",
    "# 2. 初步筛选：term 是 'geology' 或 'thisisref'，且 abstract 不为 'no abstract' 或 'no abstracts'\n",
    "clean_data = origin_data[\n",
    "    origin_data['term'].isin(['geology', 'thisisref']) & ~origin_data['abstract'].isin(['no abstract', 'no abstracts'])\n",
    "]\n",
    "\n",
    "# 3. 构建需要排除的特定文本的正则表达式（包含四位年份）\n",
    "pattern = (\n",
    "    r\"This article is in Free Access Publication and may be downloaded using the “Download Full Text PDF” link at right\\. © \\d{4}, by the Association for the Sciences of Limnology and Oceanography, Inc\\.\"\n",
    ")\n",
    "\n",
    "# 4. 创建布尔掩码，标记包含上述文本的行\n",
    "mask = clean_data['abstract'].str.contains(pattern, regex=True, na=False)\n",
    "\n",
    "# 5. 最终清洗：排除匹配的文本，且保留 abstract 长度 ≥ 100 的行\n",
    "clean_data2 = clean_data[~mask & (clean_data['abstract'].str.len() >= 100)]\n",
    "\n",
    "# 6. 输出清洗后的数据\n",
    "clean_data2"
   ],
   "metadata": {
    "collapsed": false,
    "ExecuteTime": {
     "end_time": "2025-04-11T13:41:27.901528Z",
     "start_time": "2025-04-11T13:40:55.651359Z"
    }
   },
   "id": "843b658490ce0119",
   "execution_count": 1
  },
  {
   "cell_type": "code",
   "outputs": [
    {
     "data": {
      "text/plain": "                        eid             ref_eid\n0        2-s2.0-85111011520   2-s2.0-0000638369\n1        2-s2.0-85111011520   2-s2.0-0028405041\n2        2-s2.0-85111011520   2-s2.0-0027331194\n3        2-s2.0-85111011520  2-s2.0-85083822098\n4        2-s2.0-85111011520  2-s2.0-79961139006\n...                     ...                 ...\n8227318  2-s2.0-33846530516   2-s2.0-0032661056\n8227319  2-s2.0-33846530516  2-s2.0-20444398941\n8227320  2-s2.0-33846530516  2-s2.0-33645974170\n8227321  2-s2.0-33846530516   2-s2.0-0042411003\n8227322  2-s2.0-33846530516  2-s2.0-33645985345\n\n[8227323 rows x 2 columns]",
      "text/html": "<div>\n<style scoped>\n    .dataframe tbody tr th:only-of-type {\n        vertical-align: middle;\n    }\n\n    .dataframe tbody tr th {\n        vertical-align: top;\n    }\n\n    .dataframe thead th {\n        text-align: right;\n    }\n</style>\n<table border=\"1\" class=\"dataframe\">\n  <thead>\n    <tr style=\"text-align: right;\">\n      <th></th>\n      <th>eid</th>\n      <th>ref_eid</th>\n    </tr>\n  </thead>\n  <tbody>\n    <tr>\n      <th>0</th>\n      <td>2-s2.0-85111011520</td>\n      <td>2-s2.0-0000638369</td>\n    </tr>\n    <tr>\n      <th>1</th>\n      <td>2-s2.0-85111011520</td>\n      <td>2-s2.0-0028405041</td>\n    </tr>\n    <tr>\n      <th>2</th>\n      <td>2-s2.0-85111011520</td>\n      <td>2-s2.0-0027331194</td>\n    </tr>\n    <tr>\n      <th>3</th>\n      <td>2-s2.0-85111011520</td>\n      <td>2-s2.0-85083822098</td>\n    </tr>\n    <tr>\n      <th>4</th>\n      <td>2-s2.0-85111011520</td>\n      <td>2-s2.0-79961139006</td>\n    </tr>\n    <tr>\n      <th>...</th>\n      <td>...</td>\n      <td>...</td>\n    </tr>\n    <tr>\n      <th>8227318</th>\n      <td>2-s2.0-33846530516</td>\n      <td>2-s2.0-0032661056</td>\n    </tr>\n    <tr>\n      <th>8227319</th>\n      <td>2-s2.0-33846530516</td>\n      <td>2-s2.0-20444398941</td>\n    </tr>\n    <tr>\n      <th>8227320</th>\n      <td>2-s2.0-33846530516</td>\n      <td>2-s2.0-33645974170</td>\n    </tr>\n    <tr>\n      <th>8227321</th>\n      <td>2-s2.0-33846530516</td>\n      <td>2-s2.0-0042411003</td>\n    </tr>\n    <tr>\n      <th>8227322</th>\n      <td>2-s2.0-33846530516</td>\n      <td>2-s2.0-33645985345</td>\n    </tr>\n  </tbody>\n</table>\n<p>8227323 rows × 2 columns</p>\n</div>"
     },
     "execution_count": 2,
     "metadata": {},
     "output_type": "execute_result"
    }
   ],
   "source": [
    "cite = pd.read_csv('ref.csv')\n",
    "cite"
   ],
   "metadata": {
    "collapsed": false,
    "ExecuteTime": {
     "end_time": "2025-04-11T13:43:19.603833Z",
     "start_time": "2025-04-11T13:43:15.641526Z"
    }
   },
   "id": "b6c9067d29567ad8",
   "execution_count": 2
  },
  {
   "cell_type": "code",
   "outputs": [
    {
     "data": {
      "text/plain": "                        eid             ref_eid\n1        2-s2.0-85111011520   2-s2.0-0028405041\n2        2-s2.0-85111011520   2-s2.0-0027331194\n3        2-s2.0-85111011520  2-s2.0-85083822098\n4        2-s2.0-85111011520  2-s2.0-79961139006\n5        2-s2.0-85111011520  2-s2.0-85067258849\n...                     ...                 ...\n8227185  2-s2.0-84921959907   2-s2.0-0023477638\n8227186  2-s2.0-84921959907  2-s2.0-84864556957\n8227187  2-s2.0-84921959907   2-s2.0-0021405378\n8227188  2-s2.0-84921959907   2-s2.0-0023119813\n8227189  2-s2.0-84921959907  2-s2.0-79955724639\n\n[1875873 rows x 2 columns]",
      "text/html": "<div>\n<style scoped>\n    .dataframe tbody tr th:only-of-type {\n        vertical-align: middle;\n    }\n\n    .dataframe tbody tr th {\n        vertical-align: top;\n    }\n\n    .dataframe thead th {\n        text-align: right;\n    }\n</style>\n<table border=\"1\" class=\"dataframe\">\n  <thead>\n    <tr style=\"text-align: right;\">\n      <th></th>\n      <th>eid</th>\n      <th>ref_eid</th>\n    </tr>\n  </thead>\n  <tbody>\n    <tr>\n      <th>1</th>\n      <td>2-s2.0-85111011520</td>\n      <td>2-s2.0-0028405041</td>\n    </tr>\n    <tr>\n      <th>2</th>\n      <td>2-s2.0-85111011520</td>\n      <td>2-s2.0-0027331194</td>\n    </tr>\n    <tr>\n      <th>3</th>\n      <td>2-s2.0-85111011520</td>\n      <td>2-s2.0-85083822098</td>\n    </tr>\n    <tr>\n      <th>4</th>\n      <td>2-s2.0-85111011520</td>\n      <td>2-s2.0-79961139006</td>\n    </tr>\n    <tr>\n      <th>5</th>\n      <td>2-s2.0-85111011520</td>\n      <td>2-s2.0-85067258849</td>\n    </tr>\n    <tr>\n      <th>...</th>\n      <td>...</td>\n      <td>...</td>\n    </tr>\n    <tr>\n      <th>8227185</th>\n      <td>2-s2.0-84921959907</td>\n      <td>2-s2.0-0023477638</td>\n    </tr>\n    <tr>\n      <th>8227186</th>\n      <td>2-s2.0-84921959907</td>\n      <td>2-s2.0-84864556957</td>\n    </tr>\n    <tr>\n      <th>8227187</th>\n      <td>2-s2.0-84921959907</td>\n      <td>2-s2.0-0021405378</td>\n    </tr>\n    <tr>\n      <th>8227188</th>\n      <td>2-s2.0-84921959907</td>\n      <td>2-s2.0-0023119813</td>\n    </tr>\n    <tr>\n      <th>8227189</th>\n      <td>2-s2.0-84921959907</td>\n      <td>2-s2.0-79955724639</td>\n    </tr>\n  </tbody>\n</table>\n<p>1875873 rows × 2 columns</p>\n</div>"
     },
     "execution_count": 3,
     "metadata": {},
     "output_type": "execute_result"
    }
   ],
   "source": [
    "clean_cite = cite[cite['eid'].isin(clean_data2['id']) & cite['ref_eid'].isin(clean_data2['id'])]\n",
    "clean_cite.to_csv('clean_cite.csv', index=False)\n",
    "clean_cite"
   ],
   "metadata": {
    "collapsed": false,
    "ExecuteTime": {
     "end_time": "2025-04-11T13:43:43.930467Z",
     "start_time": "2025-04-11T13:43:38.984051Z"
    }
   },
   "id": "997fb0b6551e7b6d",
   "execution_count": 3
  },
  {
   "cell_type": "code",
   "outputs": [],
   "source": [
    "clean_data2[\n",
    "    clean_data2['id'].isin(clean_cite['eid']) |\n",
    "    clean_data2['id'].isin(clean_cite['ref_eid'])\n",
    "].to_csv('clean_data.csv', index=False)\n"
   ],
   "metadata": {
    "collapsed": false,
    "ExecuteTime": {
     "end_time": "2025-04-11T13:44:10.179787Z",
     "start_time": "2025-04-11T13:43:53.936206Z"
    }
   },
   "id": "37b3c1050ee1de0",
   "execution_count": 4
  },
  {
   "cell_type": "code",
   "outputs": [
    {
     "data": {
      "text/plain": "                         id  \\\n2        2-s2.0-85109210680   \n5        2-s2.0-85105584695   \n7        2-s2.0-85111688511   \n11       2-s2.0-85106252695   \n12       2-s2.0-85058209803   \n...                     ...   \n3163983   2-s2.0-0036028564   \n3163985  2-s2.0-33644969398   \n3163986   2-s2.0-0034804123   \n3163997   2-s2.0-0027796238   \n3163999  2-s2.0-81155127443   \n\n                                                  abstract       term  \\\n2        Abstract: Natural gas hydrate has great develo...    geology   \n5        The spatial and temporal interaction of riftin...    geology   \n7        The Groningen gas field in the Netherlands is ...    geology   \n11       The current tectonic activity at the frontal p...    geology   \n12       Since launch in November 2018, the VIIRS on-bo...    geology   \n...                                                    ...        ...   \n3163983  During the biodegradation of crude oil in the ...  thisisref   \n3163985  Synthetic corundum (Al<sub>2</sub>O<sub>3</sub...  thisisref   \n3163986  High-quality Raman spectra were used for the c...  thisisref   \n3163997  In a Terrebonne Basin (Louisiana) marsh, <sup>...  thisisref   \n3163999  While subsidence is widely recognized as a dri...  thisisref   \n\n                                                   journal  \\\n2        Geomechanics and Geophysics for Geo-Energy and...   \n5                                           Tectonophysics   \n7                                           Remote Sensing   \n11                                          Tectonophysics   \n12       International Geoscience and Remote Sensing Sy...   \n...                                                    ...   \n3163983                               Organic Geochemistry   \n3163985           Journal of Colloid and Interface Science   \n3163986                      Journal of Raman Spectroscopy   \n3163997                     Marine Ecology Progress Series   \n3163999                       Geophysical Research Letters   \n\n                                                     title  time  \n2        Mechanical behavior and constitutive model of ...  2021  \n5        Cenozoic structure and tectonics of North subb...  2021  \n7        In-reservoir waveform retrieval for monitoring...  2021  \n11       Active out-of-sequence thrusting in the Molass...  2021  \n12       Early results from NOAA-20 (JPSS-1) VIIRS on-o...  2018  \n...                                                    ...   ...  \n3163983  Formation of carboxylic acids during aerobic b...  2002  \n3163985  XPS study of the major minerals in bauxite: Gi...  2006  \n3163986  Comparison of Raman spectra in characterizing ...  2001  \n3163997  Relationship between vegetation and soil forma...  1993  \n3163999  An evaluation of subsidence rates and sea-leve...  2011  \n\n[715433 rows x 6 columns]",
      "text/html": "<div>\n<style scoped>\n    .dataframe tbody tr th:only-of-type {\n        vertical-align: middle;\n    }\n\n    .dataframe tbody tr th {\n        vertical-align: top;\n    }\n\n    .dataframe thead th {\n        text-align: right;\n    }\n</style>\n<table border=\"1\" class=\"dataframe\">\n  <thead>\n    <tr style=\"text-align: right;\">\n      <th></th>\n      <th>id</th>\n      <th>abstract</th>\n      <th>term</th>\n      <th>journal</th>\n      <th>title</th>\n      <th>time</th>\n    </tr>\n  </thead>\n  <tbody>\n    <tr>\n      <th>2</th>\n      <td>2-s2.0-85109210680</td>\n      <td>Abstract: Natural gas hydrate has great develo...</td>\n      <td>geology</td>\n      <td>Geomechanics and Geophysics for Geo-Energy and...</td>\n      <td>Mechanical behavior and constitutive model of ...</td>\n      <td>2021</td>\n    </tr>\n    <tr>\n      <th>5</th>\n      <td>2-s2.0-85105584695</td>\n      <td>The spatial and temporal interaction of riftin...</td>\n      <td>geology</td>\n      <td>Tectonophysics</td>\n      <td>Cenozoic structure and tectonics of North subb...</td>\n      <td>2021</td>\n    </tr>\n    <tr>\n      <th>7</th>\n      <td>2-s2.0-85111688511</td>\n      <td>The Groningen gas field in the Netherlands is ...</td>\n      <td>geology</td>\n      <td>Remote Sensing</td>\n      <td>In-reservoir waveform retrieval for monitoring...</td>\n      <td>2021</td>\n    </tr>\n    <tr>\n      <th>11</th>\n      <td>2-s2.0-85106252695</td>\n      <td>The current tectonic activity at the frontal p...</td>\n      <td>geology</td>\n      <td>Tectonophysics</td>\n      <td>Active out-of-sequence thrusting in the Molass...</td>\n      <td>2021</td>\n    </tr>\n    <tr>\n      <th>12</th>\n      <td>2-s2.0-85058209803</td>\n      <td>Since launch in November 2018, the VIIRS on-bo...</td>\n      <td>geology</td>\n      <td>International Geoscience and Remote Sensing Sy...</td>\n      <td>Early results from NOAA-20 (JPSS-1) VIIRS on-o...</td>\n      <td>2018</td>\n    </tr>\n    <tr>\n      <th>...</th>\n      <td>...</td>\n      <td>...</td>\n      <td>...</td>\n      <td>...</td>\n      <td>...</td>\n      <td>...</td>\n    </tr>\n    <tr>\n      <th>3163983</th>\n      <td>2-s2.0-0036028564</td>\n      <td>During the biodegradation of crude oil in the ...</td>\n      <td>thisisref</td>\n      <td>Organic Geochemistry</td>\n      <td>Formation of carboxylic acids during aerobic b...</td>\n      <td>2002</td>\n    </tr>\n    <tr>\n      <th>3163985</th>\n      <td>2-s2.0-33644969398</td>\n      <td>Synthetic corundum (Al&lt;sub&gt;2&lt;/sub&gt;O&lt;sub&gt;3&lt;/sub...</td>\n      <td>thisisref</td>\n      <td>Journal of Colloid and Interface Science</td>\n      <td>XPS study of the major minerals in bauxite: Gi...</td>\n      <td>2006</td>\n    </tr>\n    <tr>\n      <th>3163986</th>\n      <td>2-s2.0-0034804123</td>\n      <td>High-quality Raman spectra were used for the c...</td>\n      <td>thisisref</td>\n      <td>Journal of Raman Spectroscopy</td>\n      <td>Comparison of Raman spectra in characterizing ...</td>\n      <td>2001</td>\n    </tr>\n    <tr>\n      <th>3163997</th>\n      <td>2-s2.0-0027796238</td>\n      <td>In a Terrebonne Basin (Louisiana) marsh, &lt;sup&gt;...</td>\n      <td>thisisref</td>\n      <td>Marine Ecology Progress Series</td>\n      <td>Relationship between vegetation and soil forma...</td>\n      <td>1993</td>\n    </tr>\n    <tr>\n      <th>3163999</th>\n      <td>2-s2.0-81155127443</td>\n      <td>While subsidence is widely recognized as a dri...</td>\n      <td>thisisref</td>\n      <td>Geophysical Research Letters</td>\n      <td>An evaluation of subsidence rates and sea-leve...</td>\n      <td>2011</td>\n    </tr>\n  </tbody>\n</table>\n<p>715433 rows × 6 columns</p>\n</div>"
     },
     "execution_count": 5,
     "metadata": {},
     "output_type": "execute_result"
    }
   ],
   "source": [
    "clean_data2[\n",
    "    clean_data2['id'].isin(clean_cite['eid']) |\n",
    "    clean_data2['id'].isin(clean_cite['ref_eid'])\n",
    "]\n"
   ],
   "metadata": {
    "collapsed": false,
    "ExecuteTime": {
     "end_time": "2025-04-11T13:46:45.271225Z",
     "start_time": "2025-04-11T13:46:44.554007Z"
    }
   },
   "id": "b318b4845127e6a6",
   "execution_count": 5
  },
  {
   "cell_type": "code",
   "outputs": [],
   "source": [],
   "metadata": {
    "collapsed": false,
    "ExecuteTime": {
     "end_time": "2025-04-11T13:50:13.693050Z",
     "start_time": "2025-04-11T13:50:13.690554Z"
    }
   },
   "id": "f032e8f36cb753cc",
   "execution_count": null
  },
  {
   "cell_type": "code",
   "outputs": [],
   "source": [],
   "metadata": {
    "collapsed": false
   },
   "id": "acb0e489ef536e46"
  }
 ],
 "metadata": {
  "kernelspec": {
   "display_name": "Python 3",
   "language": "python",
   "name": "python3"
  },
  "language_info": {
   "codemirror_mode": {
    "name": "ipython",
    "version": 2
   },
   "file_extension": ".py",
   "mimetype": "text/x-python",
   "name": "python",
   "nbconvert_exporter": "python",
   "pygments_lexer": "ipython2",
   "version": "2.7.6"
  }
 },
 "nbformat": 4,
 "nbformat_minor": 5
}
