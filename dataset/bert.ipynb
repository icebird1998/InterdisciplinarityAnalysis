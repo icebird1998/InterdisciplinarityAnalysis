{
 "cells": [
  {
   "cell_type": "code",
   "execution_count": 22,
   "id": "initial_id",
   "metadata": {
    "collapsed": true,
    "ExecuteTime": {
     "end_time": "2025-04-13T03:23:50.675483Z",
     "start_time": "2025-04-13T03:23:38.066613Z"
    }
   },
   "outputs": [],
   "source": [
    "import pandas as pd\n",
    "\n",
    "data = pd.read_csv('clean_data.csv')\n",
    "\n",
    "corpus = data[data['term']== 'geology']\n",
    "refs = data[data['term']== 'thisisref']"
   ]
  },
  {
   "cell_type": "code",
   "outputs": [],
   "source": [
    "# import pandas as pd\n",
    "# import torch\n",
    "# from transformers import BertTokenizer, BertModel\n",
    "# from tqdm import tqdm\n",
    "# \n",
    "# # 假设你已经有 data = pd.DataFrame({'abstract': [...]})\n",
    "# # 示例数据（如果你要测试）\n",
    "# # data = pd.DataFrame({'abstract': ['Earth system science involves...', 'Remote sensing helps detect...']})\n",
    "# \n",
    "# # 设置设备\n",
    "# device = torch.device('cuda' if torch.cuda.is_available() else 'cpu')\n",
    "# print(f\"Using device: {device}\")\n",
    "# \n",
    "# # 加载模型和 tokenizer\n",
    "# tokenizer = BertTokenizer.from_pretrained('bert-base-uncased')  # 可替换为其他模型\n",
    "# model = BertModel.from_pretrained('bert-base-uncased')\n",
    "# model.to(device)\n",
    "# model.eval()\n",
    "# \n",
    "# # 批量处理参数\n",
    "# batch_size = 32\n",
    "# texts = data['abstract'].fillna('').tolist()  # 避免空值报错\n",
    "# \n",
    "# # 存储向量\n",
    "# all_vectors = []\n",
    "# \n",
    "# # 批处理向量提取函数\n",
    "# for i in tqdm(range(0, len(texts), batch_size), desc=\"Encoding\"):\n",
    "#     batch_texts = texts[i:i+batch_size]\n",
    "#     inputs = tokenizer(batch_texts, return_tensors='pt', padding=True, truncation=True, max_length=512)\n",
    "#     inputs = {k: v.to(device) for k, v in inputs.items()}\n",
    "# \n",
    "#     with torch.no_grad():\n",
    "#         outputs = model(**inputs)\n",
    "#         cls_embeddings = outputs.last_hidden_state[:, 0, :]  # 提取 [CLS] token 向量\n",
    "#         cls_embeddings = cls_embeddings.cpu().numpy()        # 移回 CPU 转为 NumPy\n",
    "# \n",
    "#     all_vectors.extend(cls_embeddings)\n",
    "# \n",
    "# # 加入 DataFrame\n",
    "# data['vector'] = all_vectors\n"
   ],
   "metadata": {
    "collapsed": false,
    "ExecuteTime": {
     "end_time": "2025-04-13T03:23:50.682381Z",
     "start_time": "2025-04-13T03:23:50.676468Z"
    }
   },
   "id": "feb5d02b95f4b250",
   "execution_count": 23
  },
  {
   "cell_type": "code",
   "outputs": [],
   "source": [
    "# data.to_parquet('vector.parquet')"
   ],
   "metadata": {
    "collapsed": false,
    "ExecuteTime": {
     "end_time": "2025-04-13T03:23:50.690409Z",
     "start_time": "2025-04-13T03:23:50.683432Z"
    }
   },
   "id": "733a947d08045918",
   "execution_count": 24
  },
  {
   "cell_type": "code",
   "outputs": [],
   "source": [
    "# import pandas as pd\n",
    "# import torch\n",
    "# from transformers import BertTokenizer, BertModel\n",
    "# from tqdm import tqdm\n",
    "# \n",
    "# # 准备学科列表\n",
    "# domains = [\n",
    "#     'mathematical and physical science',\n",
    "#     'chemical science',\n",
    "#     'life science',\n",
    "#     'engineering and materials science',\n",
    "#     'earth science',\n",
    "#     'information science',\n",
    "#     'health science'\n",
    "# ]\n",
    "# \n",
    "# # 设置设备\n",
    "# device = torch.device('cuda' if torch.cuda.is_available() else 'cpu')\n",
    "# \n",
    "# # 加载模型\n",
    "# tokenizer = BertTokenizer.from_pretrained('bert-base-uncased')\n",
    "# model = BertModel.from_pretrained('bert-base-uncased')\n",
    "# model.to(device)\n",
    "# model.eval()\n",
    "# \n",
    "# # 提取向量的函数\n",
    "# def get_vector(text):\n",
    "#     inputs = tokenizer(text, return_tensors='pt', truncation=True, padding=True, max_length=128).to(device)\n",
    "#     with torch.no_grad():\n",
    "#         outputs = model(**inputs)\n",
    "#         cls_vec = outputs.last_hidden_state[:, 0, :].squeeze().cpu().numpy()\n",
    "#     return cls_vec\n",
    "# \n",
    "# # 提取每个学科的向量\n",
    "# vectors = [get_vector(domain) for domain in tqdm(domains)]\n",
    "# \n",
    "# # 生成 DataFrame\n",
    "# df_domains = pd.DataFrame({\n",
    "#     'domain': domains,\n",
    "#     'vector': vectors\n",
    "# })\n",
    "# \n",
    "# # 展示\n",
    "# df_domains\n"
   ],
   "metadata": {
    "collapsed": false,
    "ExecuteTime": {
     "end_time": "2025-04-13T03:23:50.696452Z",
     "start_time": "2025-04-13T03:23:50.692376Z"
    }
   },
   "id": "b8177c523e1b8a65",
   "execution_count": 25
  },
  {
   "cell_type": "code",
   "outputs": [],
   "source": [
    "# df_domains.to_parquet('domain_vector.parquet')"
   ],
   "metadata": {
    "collapsed": false,
    "ExecuteTime": {
     "end_time": "2025-04-13T03:23:50.702566Z",
     "start_time": "2025-04-13T03:23:50.697433Z"
    }
   },
   "id": "a5070754cd470258",
   "execution_count": 26
  },
  {
   "cell_type": "code",
   "outputs": [
    {
     "data": {
      "text/plain": "modules.json:   0%|          | 0.00/229 [00:00<?, ?B/s]",
      "application/vnd.jupyter.widget-view+json": {
       "version_major": 2,
       "version_minor": 0,
       "model_id": "c8fa591e0b1a41b8a8fabd4875ed04de"
      }
     },
     "metadata": {},
     "output_type": "display_data"
    },
    {
     "name": "stderr",
     "output_type": "stream",
     "text": [
      "C:\\ProgramData\\miniconda3\\envs\\torch\\Lib\\site-packages\\huggingface_hub\\file_download.py:142: UserWarning: `huggingface_hub` cache-system uses symlinks by default to efficiently store duplicated files but your machine does not support them in C:\\Users\\lipen\\.cache\\huggingface\\hub\\models--sentence-transformers--paraphrase-MiniLM-L6-v2. Caching files will still work but in a degraded version that might require more space on your disk. This warning can be disabled by setting the `HF_HUB_DISABLE_SYMLINKS_WARNING` environment variable. For more details, see https://huggingface.co/docs/huggingface_hub/how-to-cache#limitations.\n",
      "To support symlinks on Windows, you either need to activate Developer Mode or to run Python as an administrator. In order to activate developer mode, see this article: https://docs.microsoft.com/en-us/windows/apps/get-started/enable-your-device-for-development\n",
      "  warnings.warn(message)\n"
     ]
    },
    {
     "data": {
      "text/plain": "config_sentence_transformers.json:   0%|          | 0.00/122 [00:00<?, ?B/s]",
      "application/vnd.jupyter.widget-view+json": {
       "version_major": 2,
       "version_minor": 0,
       "model_id": "423ac895f6e84b71bd179f5a7302145d"
      }
     },
     "metadata": {},
     "output_type": "display_data"
    },
    {
     "data": {
      "text/plain": "README.md:   0%|          | 0.00/3.51k [00:00<?, ?B/s]",
      "application/vnd.jupyter.widget-view+json": {
       "version_major": 2,
       "version_minor": 0,
       "model_id": "ca545764c0cc4eeb9f699ea6b4bc2d0e"
      }
     },
     "metadata": {},
     "output_type": "display_data"
    },
    {
     "data": {
      "text/plain": "sentence_bert_config.json:   0%|          | 0.00/53.0 [00:00<?, ?B/s]",
      "application/vnd.jupyter.widget-view+json": {
       "version_major": 2,
       "version_minor": 0,
       "model_id": "c846177b1d744c25b4ecb2abb8e2b679"
      }
     },
     "metadata": {},
     "output_type": "display_data"
    },
    {
     "data": {
      "text/plain": "config.json:   0%|          | 0.00/629 [00:00<?, ?B/s]",
      "application/vnd.jupyter.widget-view+json": {
       "version_major": 2,
       "version_minor": 0,
       "model_id": "e07b6ac3223d49eabe19e95fbea8a41d"
      }
     },
     "metadata": {},
     "output_type": "display_data"
    },
    {
     "data": {
      "text/plain": "model.safetensors:   0%|          | 0.00/90.9M [00:00<?, ?B/s]",
      "application/vnd.jupyter.widget-view+json": {
       "version_major": 2,
       "version_minor": 0,
       "model_id": "1ce0892fb83d4ce99725748e64fb732c"
      }
     },
     "metadata": {},
     "output_type": "display_data"
    },
    {
     "data": {
      "text/plain": "tokenizer_config.json:   0%|          | 0.00/314 [00:00<?, ?B/s]",
      "application/vnd.jupyter.widget-view+json": {
       "version_major": 2,
       "version_minor": 0,
       "model_id": "c1c0c8c92dd44a43ac4b0fe3bcaa3f41"
      }
     },
     "metadata": {},
     "output_type": "display_data"
    },
    {
     "data": {
      "text/plain": "vocab.txt:   0%|          | 0.00/232k [00:00<?, ?B/s]",
      "application/vnd.jupyter.widget-view+json": {
       "version_major": 2,
       "version_minor": 0,
       "model_id": "5f085cc253094bd1b51db988a3ef4625"
      }
     },
     "metadata": {},
     "output_type": "display_data"
    },
    {
     "data": {
      "text/plain": "tokenizer.json:   0%|          | 0.00/466k [00:00<?, ?B/s]",
      "application/vnd.jupyter.widget-view+json": {
       "version_major": 2,
       "version_minor": 0,
       "model_id": "f6882db18ad04d61a388625c7570dee9"
      }
     },
     "metadata": {},
     "output_type": "display_data"
    },
    {
     "data": {
      "text/plain": "special_tokens_map.json:   0%|          | 0.00/112 [00:00<?, ?B/s]",
      "application/vnd.jupyter.widget-view+json": {
       "version_major": 2,
       "version_minor": 0,
       "model_id": "6d35db4a62db48c7a401ca163dc6a527"
      }
     },
     "metadata": {},
     "output_type": "display_data"
    },
    {
     "data": {
      "text/plain": "config.json:   0%|          | 0.00/190 [00:00<?, ?B/s]",
      "application/vnd.jupyter.widget-view+json": {
       "version_major": 2,
       "version_minor": 0,
       "model_id": "d8ddd05dcd174c13aee0cafec3c4f967"
      }
     },
     "metadata": {},
     "output_type": "display_data"
    },
    {
     "data": {
      "text/plain": "Batches:   0%|          | 0/22358 [00:00<?, ?it/s]",
      "application/vnd.jupyter.widget-view+json": {
       "version_major": 2,
       "version_minor": 0,
       "model_id": "d1645ad77d9f414e81396794f5eca495"
      }
     },
     "metadata": {},
     "output_type": "display_data"
    },
    {
     "name": "stdout",
     "output_type": "stream",
     "text": [
      "                                            abstract  \\\n",
      "0  Abstract: Natural gas hydrate has great develo...   \n",
      "1  The spatial and temporal interaction of riftin...   \n",
      "2  The Groningen gas field in the Netherlands is ...   \n",
      "3  The current tectonic activity at the frontal p...   \n",
      "4  Since launch in November 2018, the VIIRS on-bo...   \n",
      "\n",
      "                                              vector  \n",
      "0  [-0.5047816, -0.054607272, 0.22173753, -0.0803...  \n",
      "1  [-0.26735967, -0.053412072, -0.042996712, -0.1...  \n",
      "2  [-0.2266357, 0.045274876, 0.02579047, -0.14728...  \n",
      "3  [0.042834315, -0.10465841, 0.08357729, 0.03143...  \n",
      "4  [-0.07521283, 0.21031243, -0.108987175, -0.480...  \n"
     ]
    }
   ],
   "source": [
    "import pandas as pd\n",
    "from sentence_transformers import SentenceTransformer\n",
    "\n",
    "# 假设你已经有 data = pd.DataFrame({'abstract': [...]})\n",
    "# 示例数据（测试用）\n",
    "# data = pd.DataFrame({'abstract': ['Earth system science involves...', 'Remote sensing helps detect...']})\n",
    "\n",
    "# 加载 SentenceTransformer 模型\n",
    "model = SentenceTransformer('paraphrase-MiniLM-L6-v2')\n",
    "\n",
    "# 清洗摘要，防止空值\n",
    "texts = data['abstract'].fillna('').tolist()\n",
    "\n",
    "# 提取句向量（模型内部自动处理 batching & device）\n",
    "vectors = model.encode(texts, show_progress_bar=True)\n",
    "\n",
    "# 加入 DataFrame\n",
    "data['vector'] = list(vectors)\n",
    "\n",
    "# 可选：打印前几条看看\n",
    "print(data[['abstract', 'vector']].head())\n"
   ],
   "metadata": {
    "collapsed": false,
    "ExecuteTime": {
     "end_time": "2025-04-13T03:36:10.471457Z",
     "start_time": "2025-04-13T03:23:50.703626Z"
    }
   },
   "id": "b3f37e7d65a733ac",
   "execution_count": 27
  },
  {
   "cell_type": "code",
   "outputs": [],
   "source": [
    "data.to_parquet('vector.parquet')"
   ],
   "metadata": {
    "collapsed": false,
    "ExecuteTime": {
     "end_time": "2025-04-13T03:36:23.630683Z",
     "start_time": "2025-04-13T03:36:10.473419Z"
    }
   },
   "id": "d8d0deb33af1d71f",
   "execution_count": 28
  },
  {
   "cell_type": "code",
   "outputs": [
    {
     "data": {
      "text/plain": "Batches:   0%|          | 0/1 [00:00<?, ?it/s]",
      "application/vnd.jupyter.widget-view+json": {
       "version_major": 2,
       "version_minor": 0,
       "model_id": "cc2bbe4446164a6692a9618cf4c515ce"
      }
     },
     "metadata": {},
     "output_type": "display_data"
    },
    {
     "name": "stdout",
     "output_type": "stream",
     "text": [
      "                              domain  \\\n",
      "0  mathematical and physical science   \n",
      "1                   chemical science   \n",
      "2                       life science   \n",
      "3  engineering and materials science   \n",
      "4                      earth science   \n",
      "\n",
      "                                              vector  \n",
      "0  [-0.14451712, 0.23823792, 0.0037071954, 0.0215...  \n",
      "1  [-0.6430494, 0.3025447, -0.511633, 0.2993416, ...  \n",
      "2  [-0.47636873, 0.30147463, -0.039580934, 0.0246...  \n",
      "3  [-0.47923693, 0.4003725, -0.30277374, 0.142371...  \n",
      "4  [0.12350081, 0.33160982, 0.33026475, -0.071776...  \n"
     ]
    }
   ],
   "source": [
    "import pandas as pd\n",
    "from sentence_transformers import SentenceTransformer\n",
    "\n",
    "# 定义学科领域列表\n",
    "domains = [\n",
    "    'mathematical and physical science',\n",
    "    'chemical science',\n",
    "    'life science',\n",
    "    'engineering and materials science',\n",
    "    'earth science',\n",
    "    'information science',\n",
    "    'management science',\n",
    "    'health science'\n",
    "]\n",
    "\n",
    "# 加载模型\n",
    "model = SentenceTransformer('paraphrase-MiniLM-L6-v2')\n",
    "\n",
    "# 提取向量\n",
    "domain_vectors = model.encode(domains, show_progress_bar=True)\n",
    "\n",
    "# 构建 DataFrame\n",
    "df_domains = pd.DataFrame({\n",
    "    'domain': domains,\n",
    "    'vector': list(domain_vectors)  # 每行是一个 384 维向量\n",
    "})\n",
    "\n",
    "# 显示前几条\n",
    "print(df_domains.head())\n"
   ],
   "metadata": {
    "collapsed": false,
    "ExecuteTime": {
     "end_time": "2025-04-21T07:49:29.091263Z",
     "start_time": "2025-04-21T07:49:25.719483Z"
    }
   },
   "id": "acd11d3bae81500",
   "execution_count": 3
  },
  {
   "cell_type": "code",
   "outputs": [],
   "source": [
    "df_domains.to_parquet('domain_vector.parquet')"
   ],
   "metadata": {
    "collapsed": false,
    "ExecuteTime": {
     "end_time": "2025-04-21T07:49:31.092010Z",
     "start_time": "2025-04-21T07:49:31.066178Z"
    }
   },
   "id": "55ee8fcef15ccdc5",
   "execution_count": 4
  },
  {
   "cell_type": "code",
   "outputs": [
    {
     "data": {
      "text/plain": "domain\nmathematical and physical science    1\nchemical science                     1\nlife science                         1\nengineering and materials science    1\nearth science                        1\ninformation science                  1\nmanagement science                   1\nhealth science                       1\nName: count, dtype: int64"
     },
     "execution_count": 5,
     "metadata": {},
     "output_type": "execute_result"
    }
   ],
   "source": [
    "df_domains['domain'].value_counts()"
   ],
   "metadata": {
    "collapsed": false,
    "ExecuteTime": {
     "end_time": "2025-04-21T07:49:32.023966Z",
     "start_time": "2025-04-21T07:49:32.017671Z"
    }
   },
   "id": "4995738499d8779b",
   "execution_count": 5
  },
  {
   "cell_type": "code",
   "outputs": [],
   "source": [],
   "metadata": {
    "collapsed": false,
    "ExecuteTime": {
     "end_time": "2025-04-13T03:36:27.938412Z",
     "start_time": "2025-04-13T03:36:27.935867Z"
    }
   },
   "id": "a07c038cbf29be0a",
   "execution_count": 30
  }
 ],
 "metadata": {
  "kernelspec": {
   "display_name": "Python 3",
   "language": "python",
   "name": "python3"
  },
  "language_info": {
   "codemirror_mode": {
    "name": "ipython",
    "version": 2
   },
   "file_extension": ".py",
   "mimetype": "text/x-python",
   "name": "python",
   "nbconvert_exporter": "python",
   "pygments_lexer": "ipython2",
   "version": "2.7.6"
  }
 },
 "nbformat": 4,
 "nbformat_minor": 5
}
