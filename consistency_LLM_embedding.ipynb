{
 "cells": [
  {
   "cell_type": "code",
   "outputs": [],
   "source": [
    "from sklearn.metrics import accuracy_score, classification_report\n",
    "import pandas as pd\n",
    "\n",
    "sampled = pd.read_parquet(\"LLM分类结果.parquet\")\n",
    "sampled\n",
    "from sklearn.metrics import accuracy_score\n",
    "import pandas as pd\n",
    "\n",
    "# 统一变量\n",
    "emb = sampled[\"assigned_domain_by_embedding\"]\n",
    "gpt = sampled[\"domain_by_DeepSeek-R1\"]\n",
    "\n",
    "# 整体一致率（只看两边都非空的样本）\n",
    "mask = gpt.notna() & emb.notna()\n",
    "\n",
    "# ------------------------\n",
    "# 1. 以 GPT4o 为基准（分母=GPT4o判到的数量）\n",
    "per_class_acc_gpt = ((emb[mask] == gpt[mask])\n",
    "                     .groupby(gpt[mask])\n",
    "                     .mean())\n",
    "print(\"\\n按 GPT4o 为基准:\")\n",
    "print(per_class_acc_gpt)\n"
   ],
   "metadata": {
    "collapsed": false
   },
   "id": "3ac091792297865a",
   "execution_count": null
  },
  {
   "cell_type": "code",
   "outputs": [],
   "source": [],
   "metadata": {
    "collapsed": false
   },
   "id": "753477bb635e46f4"
  }
 ],
 "metadata": {
  "kernelspec": {
   "display_name": "Python 3",
   "language": "python",
   "name": "python3"
  },
  "language_info": {
   "codemirror_mode": {
    "name": "ipython",
    "version": 2
   },
   "file_extension": ".py",
   "mimetype": "text/x-python",
   "name": "python",
   "nbconvert_exporter": "python",
   "pygments_lexer": "ipython2",
   "version": "2.7.6"
  }
 },
 "nbformat": 4,
 "nbformat_minor": 5
}
